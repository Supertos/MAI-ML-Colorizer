{
 "cells": [
  {
   "cell_type": "code",
   "execution_count": 1,
   "id": "c543d2a2",
   "metadata": {},
   "outputs": [
    {
     "name": "stderr",
     "output_type": "stream",
     "text": [
      "2025-04-17 23:28:28.813727: E external/local_xla/xla/stream_executor/cuda/cuda_fft.cc:467] Unable to register cuFFT factory: Attempting to register factory for plugin cuFFT when one has already been registered\n",
      "WARNING: All log messages before absl::InitializeLog() is called are written to STDERR\n",
      "E0000 00:00:1744921708.843247  140239 cuda_dnn.cc:8579] Unable to register cuDNN factory: Attempting to register factory for plugin cuDNN when one has already been registered\n",
      "E0000 00:00:1744921708.850689  140239 cuda_blas.cc:1407] Unable to register cuBLAS factory: Attempting to register factory for plugin cuBLAS when one has already been registered\n",
      "W0000 00:00:1744921708.870465  140239 computation_placer.cc:177] computation placer already registered. Please check linkage and avoid linking the same target more than once.\n",
      "W0000 00:00:1744921708.870493  140239 computation_placer.cc:177] computation placer already registered. Please check linkage and avoid linking the same target more than once.\n",
      "W0000 00:00:1744921708.870496  140239 computation_placer.cc:177] computation placer already registered. Please check linkage and avoid linking the same target more than once.\n",
      "W0000 00:00:1744921708.870498  140239 computation_placer.cc:177] computation placer already registered. Please check linkage and avoid linking the same target more than once.\n",
      "2025-04-17 23:28:28.876799: I tensorflow/core/platform/cpu_feature_guard.cc:210] This TensorFlow binary is optimized to use available CPU instructions in performance-critical operations.\n",
      "To enable the following instructions: AVX2 FMA, in other operations, rebuild TensorFlow with the appropriate compiler flags.\n"
     ]
    },
    {
     "data": {
      "text/plain": [
       "'\\nlocal_paths defines local paths to the required folders,\\nthe variables used for the paths are listed below:\\n\\nIMAGE_DATASET_128_DIR\\nIMAGE_DATASET_256_DIR\\nOUTPUT_DATASET_DIR_128\\nOUTPUT_DATASET_DIR_256\\n'"
      ]
     },
     "execution_count": 1,
     "metadata": {},
     "output_type": "execute_result"
    }
   ],
   "source": [
    "import os\n",
    "import typing\n",
    "import cv2\n",
    "import numpy as np\n",
    "import tensorflow as tf\n",
    "\n",
    "from local_paths import *\n",
    "\"\"\"\n",
    "local_paths defines local paths to the required folders,\n",
    "the variables used for the paths are listed below:\n",
    "\n",
    "IMAGE_DATASET_128_DIR\n",
    "IMAGE_DATASET_256_DIR\n",
    "OUTPUT_DATASET_DIR_128\n",
    "OUTPUT_DATASET_DIR_256\n",
    "\"\"\""
   ]
  },
  {
   "cell_type": "code",
   "execution_count": null,
   "id": "d25f1db5",
   "metadata": {},
   "outputs": [],
   "source": [
    "def dataset_generator(\n",
    "        image_size: typing.Tuple[int, int], images_dir: bytes):\n",
    "    \n",
    "    images_dir = str(images_dir).split('\\'')[1]\n",
    "    # it is not specified what encoding is used, or I did not find it\n",
    "\n",
    "    images_paths = [os.path.join(images_dir, name)\n",
    "                    for name in os.listdir(images_dir)]\n",
    "    for path in images_paths:\n",
    "\n",
    "        image = cv2.imread(path)\n",
    "        height, width, *_ = image.shape\n",
    "\n",
    "        if (np.any((height, width) != image_size)):\n",
    "            image = cv2.resize(image, image_size)\n",
    "\n",
    "        image = cv2.cvtColor(image, cv2.COLOR_BGR2LAB).astype(np.float32)\n",
    "\n",
    "        # normalization of L-channel (0, 255) -> (0, 1)\n",
    "        l_channel = image[:, :, 0] / 255.0\n",
    "        # add dimension (h, w) -> (h, w, 1)\n",
    "        l_channel = l_channel[..., np.newaxis]\n",
    "\n",
    "        # normalization (0, 255) -> (-1, 1)\n",
    "        ab_channel = (image[:, :, 1:] - 128.0) / 128.0\n",
    "\n",
    "        yield tf.convert_to_tensor(l_channel), tf.convert_to_tensor(ab_channel)\n"
   ]
  },
  {
   "cell_type": "code",
   "execution_count": null,
   "id": "630a40fa",
   "metadata": {},
   "outputs": [
    {
     "name": "stderr",
     "output_type": "stream",
     "text": [
      "W0000 00:00:1744922061.576963  140239 gpu_device.cc:2341] Cannot dlopen some GPU libraries. Please make sure the missing libraries mentioned above are installed properly if you would like to use GPU. Follow the guide at https://www.tensorflow.org/install/gpu for how to download and setup the required libraries for your platform.\n",
      "Skipping registering GPU devices...\n"
     ]
    }
   ],
   "source": [
    "IMAGE_SIZE = (128, 128)\n",
    "\n",
    "dataset = tf.data.Dataset.from_generator(\n",
    "    dataset_generator,\n",
    "    args=(IMAGE_SIZE, IMAGE_DATASET_128_DIR), # converts strings to bytes\n",
    "    output_signature=(\n",
    "        tf.TensorSpec(shape=IMAGE_SIZE + (1,), dtype=tf.float32, name=None),\n",
    "        tf.TensorSpec(shape=IMAGE_SIZE + (2,), dtype=tf.float32, name=None)))\n"
   ]
  },
  {
   "cell_type": "code",
   "execution_count": 15,
   "id": "96e160f1",
   "metadata": {},
   "outputs": [],
   "source": [
    "dataset.save(OUTPUT_DATASET_DIR_128)"
   ]
  },
  {
   "cell_type": "code",
   "execution_count": null,
   "id": "475b2769",
   "metadata": {},
   "outputs": [],
   "source": [
    "IMAGE_SIZE = (256, 256)\n",
    "\n",
    "dataset = tf.data.Dataset.from_generator(\n",
    "    dataset_generator,\n",
    "    args=(IMAGE_SIZE, IMAGE_DATASET_256_DIR),\n",
    "    output_signature=(\n",
    "        tf.TensorSpec(shape=IMAGE_SIZE + (1,), dtype=tf.float32, name=None),\n",
    "        tf.TensorSpec(shape=IMAGE_SIZE + (2,), dtype=tf.float32, name=None)))\n"
   ]
  },
  {
   "cell_type": "code",
   "execution_count": null,
   "id": "68e9279e",
   "metadata": {},
   "outputs": [],
   "source": [
    "# dataset.save(OUTPUT_DATASET_DIR_256)"
   ]
  }
 ],
 "metadata": {
  "kernelspec": {
   "display_name": ".venv",
   "language": "python",
   "name": "python3"
  },
  "language_info": {
   "codemirror_mode": {
    "name": "ipython",
    "version": 3
   },
   "file_extension": ".py",
   "mimetype": "text/x-python",
   "name": "python",
   "nbconvert_exporter": "python",
   "pygments_lexer": "ipython3",
   "version": "3.12.3"
  }
 },
 "nbformat": 4,
 "nbformat_minor": 5
}
